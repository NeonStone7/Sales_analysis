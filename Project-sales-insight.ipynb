{
 "cells": [
  {
   "cell_type": "markdown",
   "id": "497aa0c0",
   "metadata": {},
   "source": [
    "#### Problem statement:\n",
    "  Companies like Amazon, Jumia,etc, use their website sales data to maximize profits. This data can be used to analyze the most products sold together or what month has the highest sales.\n",
    "The date used is all the sales made in year 2019."
   ]
  },
  {
   "cell_type": "code",
   "execution_count": 1,
   "id": "d58dbbc7",
   "metadata": {},
   "outputs": [],
   "source": [
    "import numpy as np\n",
    "import pandas as pd\n",
    "import matplotlib.pyplot as plt\n",
    "import seaborn as sns\n",
    "from glob import glob \n",
    "import warnings\n",
    "warnings.filterwarnings('ignore')"
   ]
  },
  {
   "cell_type": "code",
   "execution_count": 2,
   "id": "348378e1",
   "metadata": {},
   "outputs": [],
   "source": [
    "def wrangle(filepath):\n",
    "    df=pd.read_csv(filepath)\n",
    "    df=df.drop_duplicates()\n",
    "    return df"
   ]
  },
  {
   "cell_type": "code",
   "execution_count": 3,
   "id": "273bb152",
   "metadata": {},
   "outputs": [
    {
     "data": {
      "text/plain": [
       "['/Users/bambino/Documents/DATASETS\\\\Sales_April_2019.csv',\n",
       " '/Users/bambino/Documents/DATASETS\\\\Sales_August_2019.csv',\n",
       " '/Users/bambino/Documents/DATASETS\\\\Sales_December_2019.csv',\n",
       " '/Users/bambino/Documents/DATASETS\\\\Sales_February_2019.csv',\n",
       " '/Users/bambino/Documents/DATASETS\\\\Sales_January_2019.csv',\n",
       " '/Users/bambino/Documents/DATASETS\\\\Sales_July_2019.csv',\n",
       " '/Users/bambino/Documents/DATASETS\\\\Sales_June_2019.csv',\n",
       " '/Users/bambino/Documents/DATASETS\\\\Sales_March_2019.csv',\n",
       " '/Users/bambino/Documents/DATASETS\\\\Sales_May_2019.csv',\n",
       " '/Users/bambino/Documents/DATASETS\\\\Sales_November_2019.csv',\n",
       " '/Users/bambino/Documents/DATASETS\\\\Sales_October_2019.csv',\n",
       " '/Users/bambino/Documents/DATASETS\\\\Sales_September_2019.csv']"
      ]
     },
     "execution_count": 3,
     "metadata": {},
     "output_type": "execute_result"
    }
   ],
   "source": [
    "files=glob(\"/Users/bambino/Documents/DATASETS/Sales_*.csv\")\n",
    "files"
   ]
  },
  {
   "cell_type": "code",
   "execution_count": 4,
   "id": "b48a37fe",
   "metadata": {},
   "outputs": [],
   "source": [
    "frame=[wrangle(i) for i in files]"
   ]
  },
  {
   "cell_type": "code",
   "execution_count": 5,
   "id": "3f65d2fe",
   "metadata": {},
   "outputs": [],
   "source": [
    "df=pd.concat(frame)"
   ]
  },
  {
   "cell_type": "code",
   "execution_count": 6,
   "id": "22be6ed0",
   "metadata": {},
   "outputs": [
    {
     "data": {
      "text/plain": [
       "(185710, 6)"
      ]
     },
     "execution_count": 6,
     "metadata": {},
     "output_type": "execute_result"
    }
   ],
   "source": [
    "df.shape"
   ]
  },
  {
   "cell_type": "code",
   "execution_count": 7,
   "id": "c381e6fc",
   "metadata": {},
   "outputs": [
    {
     "name": "stdout",
     "output_type": "stream",
     "text": [
      "<class 'pandas.core.frame.DataFrame'>\n",
      "Int64Index: 185710 entries, 0 to 11685\n",
      "Data columns (total 6 columns):\n",
      " #   Column            Non-Null Count   Dtype \n",
      "---  ------            --------------   ----- \n",
      " 0   Order ID          185698 non-null  object\n",
      " 1   Product           185698 non-null  object\n",
      " 2   Quantity Ordered  185698 non-null  object\n",
      " 3   Price Each        185698 non-null  object\n",
      " 4   Order Date        185698 non-null  object\n",
      " 5   Purchase Address  185698 non-null  object\n",
      "dtypes: object(6)\n",
      "memory usage: 9.9+ MB\n"
     ]
    }
   ],
   "source": [
    "df.info()"
   ]
  },
  {
   "cell_type": "code",
   "execution_count": 8,
   "id": "85774f41",
   "metadata": {},
   "outputs": [
    {
     "data": {
      "text/html": [
       "<div>\n",
       "<style scoped>\n",
       "    .dataframe tbody tr th:only-of-type {\n",
       "        vertical-align: middle;\n",
       "    }\n",
       "\n",
       "    .dataframe tbody tr th {\n",
       "        vertical-align: top;\n",
       "    }\n",
       "\n",
       "    .dataframe thead th {\n",
       "        text-align: right;\n",
       "    }\n",
       "</style>\n",
       "<table border=\"1\" class=\"dataframe\">\n",
       "  <thead>\n",
       "    <tr style=\"text-align: right;\">\n",
       "      <th></th>\n",
       "      <th>Order ID</th>\n",
       "      <th>Product</th>\n",
       "      <th>Quantity Ordered</th>\n",
       "      <th>Price Each</th>\n",
       "      <th>Order Date</th>\n",
       "      <th>Purchase Address</th>\n",
       "    </tr>\n",
       "  </thead>\n",
       "  <tbody>\n",
       "    <tr>\n",
       "      <th>0</th>\n",
       "      <td>176558</td>\n",
       "      <td>USB-C Charging Cable</td>\n",
       "      <td>2</td>\n",
       "      <td>11.95</td>\n",
       "      <td>04/19/19 08:46</td>\n",
       "      <td>917 1st St, Dallas, TX 75001</td>\n",
       "    </tr>\n",
       "    <tr>\n",
       "      <th>1</th>\n",
       "      <td>NaN</td>\n",
       "      <td>NaN</td>\n",
       "      <td>NaN</td>\n",
       "      <td>NaN</td>\n",
       "      <td>NaN</td>\n",
       "      <td>NaN</td>\n",
       "    </tr>\n",
       "    <tr>\n",
       "      <th>2</th>\n",
       "      <td>176559</td>\n",
       "      <td>Bose SoundSport Headphones</td>\n",
       "      <td>1</td>\n",
       "      <td>99.99</td>\n",
       "      <td>04/07/19 22:30</td>\n",
       "      <td>682 Chestnut St, Boston, MA 02215</td>\n",
       "    </tr>\n",
       "    <tr>\n",
       "      <th>3</th>\n",
       "      <td>176560</td>\n",
       "      <td>Google Phone</td>\n",
       "      <td>1</td>\n",
       "      <td>600</td>\n",
       "      <td>04/12/19 14:38</td>\n",
       "      <td>669 Spruce St, Los Angeles, CA 90001</td>\n",
       "    </tr>\n",
       "    <tr>\n",
       "      <th>4</th>\n",
       "      <td>176560</td>\n",
       "      <td>Wired Headphones</td>\n",
       "      <td>1</td>\n",
       "      <td>11.99</td>\n",
       "      <td>04/12/19 14:38</td>\n",
       "      <td>669 Spruce St, Los Angeles, CA 90001</td>\n",
       "    </tr>\n",
       "  </tbody>\n",
       "</table>\n",
       "</div>"
      ],
      "text/plain": [
       "  Order ID                     Product Quantity Ordered Price Each  \\\n",
       "0   176558        USB-C Charging Cable                2      11.95   \n",
       "1      NaN                         NaN              NaN        NaN   \n",
       "2   176559  Bose SoundSport Headphones                1      99.99   \n",
       "3   176560                Google Phone                1        600   \n",
       "4   176560            Wired Headphones                1      11.99   \n",
       "\n",
       "       Order Date                      Purchase Address  \n",
       "0  04/19/19 08:46          917 1st St, Dallas, TX 75001  \n",
       "1             NaN                                   NaN  \n",
       "2  04/07/19 22:30     682 Chestnut St, Boston, MA 02215  \n",
       "3  04/12/19 14:38  669 Spruce St, Los Angeles, CA 90001  \n",
       "4  04/12/19 14:38  669 Spruce St, Los Angeles, CA 90001  "
      ]
     },
     "execution_count": 8,
     "metadata": {},
     "output_type": "execute_result"
    }
   ],
   "source": [
    "df.head()"
   ]
  },
  {
   "cell_type": "code",
   "execution_count": 9,
   "id": "83be74a2",
   "metadata": {},
   "outputs": [
    {
     "data": {
      "text/plain": [
       "Order ID            12\n",
       "Product             12\n",
       "Quantity Ordered    12\n",
       "Price Each          12\n",
       "Order Date          12\n",
       "Purchase Address    12\n",
       "dtype: int64"
      ]
     },
     "execution_count": 9,
     "metadata": {},
     "output_type": "execute_result"
    }
   ],
   "source": [
    "df.isnull().sum()"
   ]
  },
  {
   "cell_type": "code",
   "execution_count": 10,
   "id": "403fa3ee",
   "metadata": {},
   "outputs": [],
   "source": [
    "df.dropna(how='all',inplace=True)"
   ]
  },
  {
   "cell_type": "code",
   "execution_count": 11,
   "id": "2133e4a5",
   "metadata": {},
   "outputs": [
    {
     "data": {
      "text/plain": [
       "Order ID            0\n",
       "Product             0\n",
       "Quantity Ordered    0\n",
       "Price Each          0\n",
       "Order Date          0\n",
       "Purchase Address    0\n",
       "dtype: int64"
      ]
     },
     "execution_count": 11,
     "metadata": {},
     "output_type": "execute_result"
    }
   ],
   "source": [
    "df.isnull().sum()"
   ]
  },
  {
   "cell_type": "code",
   "execution_count": 12,
   "id": "b98e835a",
   "metadata": {},
   "outputs": [
    {
     "data": {
      "text/html": [
       "<div>\n",
       "<style scoped>\n",
       "    .dataframe tbody tr th:only-of-type {\n",
       "        vertical-align: middle;\n",
       "    }\n",
       "\n",
       "    .dataframe tbody tr th {\n",
       "        vertical-align: top;\n",
       "    }\n",
       "\n",
       "    .dataframe thead th {\n",
       "        text-align: right;\n",
       "    }\n",
       "</style>\n",
       "<table border=\"1\" class=\"dataframe\">\n",
       "  <thead>\n",
       "    <tr style=\"text-align: right;\">\n",
       "      <th></th>\n",
       "      <th>Order ID</th>\n",
       "      <th>Product</th>\n",
       "      <th>Quantity Ordered</th>\n",
       "      <th>Price Each</th>\n",
       "      <th>Order Date</th>\n",
       "      <th>Purchase Address</th>\n",
       "    </tr>\n",
       "  </thead>\n",
       "  <tbody>\n",
       "    <tr>\n",
       "      <th>519</th>\n",
       "      <td>Order ID</td>\n",
       "      <td>Product</td>\n",
       "      <td>Quantity Ordered</td>\n",
       "      <td>Price Each</td>\n",
       "      <td>Order Date</td>\n",
       "      <td>Purchase Address</td>\n",
       "    </tr>\n",
       "    <tr>\n",
       "      <th>211</th>\n",
       "      <td>Order ID</td>\n",
       "      <td>Product</td>\n",
       "      <td>Quantity Ordered</td>\n",
       "      <td>Price Each</td>\n",
       "      <td>Order Date</td>\n",
       "      <td>Purchase Address</td>\n",
       "    </tr>\n",
       "    <tr>\n",
       "      <th>254</th>\n",
       "      <td>Order ID</td>\n",
       "      <td>Product</td>\n",
       "      <td>Quantity Ordered</td>\n",
       "      <td>Price Each</td>\n",
       "      <td>Order Date</td>\n",
       "      <td>Purchase Address</td>\n",
       "    </tr>\n",
       "    <tr>\n",
       "      <th>1483</th>\n",
       "      <td>Order ID</td>\n",
       "      <td>Product</td>\n",
       "      <td>Quantity Ordered</td>\n",
       "      <td>Price Each</td>\n",
       "      <td>Order Date</td>\n",
       "      <td>Purchase Address</td>\n",
       "    </tr>\n",
       "    <tr>\n",
       "      <th>1073</th>\n",
       "      <td>Order ID</td>\n",
       "      <td>Product</td>\n",
       "      <td>Quantity Ordered</td>\n",
       "      <td>Price Each</td>\n",
       "      <td>Order Date</td>\n",
       "      <td>Purchase Address</td>\n",
       "    </tr>\n",
       "    <tr>\n",
       "      <th>775</th>\n",
       "      <td>Order ID</td>\n",
       "      <td>Product</td>\n",
       "      <td>Quantity Ordered</td>\n",
       "      <td>Price Each</td>\n",
       "      <td>Order Date</td>\n",
       "      <td>Purchase Address</td>\n",
       "    </tr>\n",
       "    <tr>\n",
       "      <th>158</th>\n",
       "      <td>Order ID</td>\n",
       "      <td>Product</td>\n",
       "      <td>Quantity Ordered</td>\n",
       "      <td>Price Each</td>\n",
       "      <td>Order Date</td>\n",
       "      <td>Purchase Address</td>\n",
       "    </tr>\n",
       "    <tr>\n",
       "      <th>433</th>\n",
       "      <td>Order ID</td>\n",
       "      <td>Product</td>\n",
       "      <td>Quantity Ordered</td>\n",
       "      <td>Price Each</td>\n",
       "      <td>Order Date</td>\n",
       "      <td>Purchase Address</td>\n",
       "    </tr>\n",
       "    <tr>\n",
       "      <th>964</th>\n",
       "      <td>Order ID</td>\n",
       "      <td>Product</td>\n",
       "      <td>Quantity Ordered</td>\n",
       "      <td>Price Each</td>\n",
       "      <td>Order Date</td>\n",
       "      <td>Purchase Address</td>\n",
       "    </tr>\n",
       "    <tr>\n",
       "      <th>1172</th>\n",
       "      <td>Order ID</td>\n",
       "      <td>Product</td>\n",
       "      <td>Quantity Ordered</td>\n",
       "      <td>Price Each</td>\n",
       "      <td>Order Date</td>\n",
       "      <td>Purchase Address</td>\n",
       "    </tr>\n",
       "    <tr>\n",
       "      <th>521</th>\n",
       "      <td>Order ID</td>\n",
       "      <td>Product</td>\n",
       "      <td>Quantity Ordered</td>\n",
       "      <td>Price Each</td>\n",
       "      <td>Order Date</td>\n",
       "      <td>Purchase Address</td>\n",
       "    </tr>\n",
       "    <tr>\n",
       "      <th>1679</th>\n",
       "      <td>Order ID</td>\n",
       "      <td>Product</td>\n",
       "      <td>Quantity Ordered</td>\n",
       "      <td>Price Each</td>\n",
       "      <td>Order Date</td>\n",
       "      <td>Purchase Address</td>\n",
       "    </tr>\n",
       "  </tbody>\n",
       "</table>\n",
       "</div>"
      ],
      "text/plain": [
       "      Order ID  Product  Quantity Ordered  Price Each  Order Date  \\\n",
       "519   Order ID  Product  Quantity Ordered  Price Each  Order Date   \n",
       "211   Order ID  Product  Quantity Ordered  Price Each  Order Date   \n",
       "254   Order ID  Product  Quantity Ordered  Price Each  Order Date   \n",
       "1483  Order ID  Product  Quantity Ordered  Price Each  Order Date   \n",
       "1073  Order ID  Product  Quantity Ordered  Price Each  Order Date   \n",
       "775   Order ID  Product  Quantity Ordered  Price Each  Order Date   \n",
       "158   Order ID  Product  Quantity Ordered  Price Each  Order Date   \n",
       "433   Order ID  Product  Quantity Ordered  Price Each  Order Date   \n",
       "964   Order ID  Product  Quantity Ordered  Price Each  Order Date   \n",
       "1172  Order ID  Product  Quantity Ordered  Price Each  Order Date   \n",
       "521   Order ID  Product  Quantity Ordered  Price Each  Order Date   \n",
       "1679  Order ID  Product  Quantity Ordered  Price Each  Order Date   \n",
       "\n",
       "      Purchase Address  \n",
       "519   Purchase Address  \n",
       "211   Purchase Address  \n",
       "254   Purchase Address  \n",
       "1483  Purchase Address  \n",
       "1073  Purchase Address  \n",
       "775   Purchase Address  \n",
       "158   Purchase Address  \n",
       "433   Purchase Address  \n",
       "964   Purchase Address  \n",
       "1172  Purchase Address  \n",
       "521   Purchase Address  \n",
       "1679  Purchase Address  "
      ]
     },
     "execution_count": 12,
     "metadata": {},
     "output_type": "execute_result"
    }
   ],
   "source": [
    "cols=df[df['Order Date']=='Order Date']\n",
    "cols\n"
   ]
  },
  {
   "cell_type": "code",
   "execution_count": 13,
   "id": "edc98f9c",
   "metadata": {},
   "outputs": [],
   "source": [
    "df.drop([519,211,254,1483,1073,775,158,433,964,1172,521,1679],axis=0,inplace=True)"
   ]
  },
  {
   "cell_type": "code",
   "execution_count": 14,
   "id": "ab44a302",
   "metadata": {},
   "outputs": [
    {
     "data": {
      "text/html": [
       "<div>\n",
       "<style scoped>\n",
       "    .dataframe tbody tr th:only-of-type {\n",
       "        vertical-align: middle;\n",
       "    }\n",
       "\n",
       "    .dataframe tbody tr th {\n",
       "        vertical-align: top;\n",
       "    }\n",
       "\n",
       "    .dataframe thead th {\n",
       "        text-align: right;\n",
       "    }\n",
       "</style>\n",
       "<table border=\"1\" class=\"dataframe\">\n",
       "  <thead>\n",
       "    <tr style=\"text-align: right;\">\n",
       "      <th></th>\n",
       "      <th>Order ID</th>\n",
       "      <th>Product</th>\n",
       "      <th>Quantity Ordered</th>\n",
       "      <th>Price Each</th>\n",
       "      <th>Order Date</th>\n",
       "      <th>Purchase Address</th>\n",
       "    </tr>\n",
       "  </thead>\n",
       "  <tbody>\n",
       "    <tr>\n",
       "      <th>0</th>\n",
       "      <td>176558</td>\n",
       "      <td>USB-C Charging Cable</td>\n",
       "      <td>2</td>\n",
       "      <td>11.95</td>\n",
       "      <td>04/19/19 08:46</td>\n",
       "      <td>917 1st St, Dallas, TX 75001</td>\n",
       "    </tr>\n",
       "    <tr>\n",
       "      <th>2</th>\n",
       "      <td>176559</td>\n",
       "      <td>Bose SoundSport Headphones</td>\n",
       "      <td>1</td>\n",
       "      <td>99.99</td>\n",
       "      <td>04/07/19 22:30</td>\n",
       "      <td>682 Chestnut St, Boston, MA 02215</td>\n",
       "    </tr>\n",
       "    <tr>\n",
       "      <th>3</th>\n",
       "      <td>176560</td>\n",
       "      <td>Google Phone</td>\n",
       "      <td>1</td>\n",
       "      <td>600</td>\n",
       "      <td>04/12/19 14:38</td>\n",
       "      <td>669 Spruce St, Los Angeles, CA 90001</td>\n",
       "    </tr>\n",
       "    <tr>\n",
       "      <th>4</th>\n",
       "      <td>176560</td>\n",
       "      <td>Wired Headphones</td>\n",
       "      <td>1</td>\n",
       "      <td>11.99</td>\n",
       "      <td>04/12/19 14:38</td>\n",
       "      <td>669 Spruce St, Los Angeles, CA 90001</td>\n",
       "    </tr>\n",
       "    <tr>\n",
       "      <th>5</th>\n",
       "      <td>176561</td>\n",
       "      <td>Wired Headphones</td>\n",
       "      <td>1</td>\n",
       "      <td>11.99</td>\n",
       "      <td>04/30/19 09:27</td>\n",
       "      <td>333 8th St, Los Angeles, CA 90001</td>\n",
       "    </tr>\n",
       "  </tbody>\n",
       "</table>\n",
       "</div>"
      ],
      "text/plain": [
       "  Order ID                     Product Quantity Ordered Price Each  \\\n",
       "0   176558        USB-C Charging Cable                2      11.95   \n",
       "2   176559  Bose SoundSport Headphones                1      99.99   \n",
       "3   176560                Google Phone                1        600   \n",
       "4   176560            Wired Headphones                1      11.99   \n",
       "5   176561            Wired Headphones                1      11.99   \n",
       "\n",
       "       Order Date                      Purchase Address  \n",
       "0  04/19/19 08:46          917 1st St, Dallas, TX 75001  \n",
       "2  04/07/19 22:30     682 Chestnut St, Boston, MA 02215  \n",
       "3  04/12/19 14:38  669 Spruce St, Los Angeles, CA 90001  \n",
       "4  04/12/19 14:38  669 Spruce St, Los Angeles, CA 90001  \n",
       "5  04/30/19 09:27     333 8th St, Los Angeles, CA 90001  "
      ]
     },
     "execution_count": 14,
     "metadata": {},
     "output_type": "execute_result"
    }
   ],
   "source": [
    "df.head()"
   ]
  },
  {
   "cell_type": "code",
   "execution_count": 15,
   "id": "7cff8a6f",
   "metadata": {},
   "outputs": [],
   "source": [
    "df['Order Date']=pd.to_datetime(df['Order Date'])"
   ]
  },
  {
   "cell_type": "code",
   "execution_count": 16,
   "id": "909ef4b7",
   "metadata": {},
   "outputs": [],
   "source": [
    "df['Month']=df['Order Date'].apply(lambda time:time.month)"
   ]
  },
  {
   "cell_type": "code",
   "execution_count": 17,
   "id": "b1b69f7a",
   "metadata": {},
   "outputs": [],
   "source": [
    "mmap={1:'January',2:'February',3:'March',4:'April',5:'May',6:'June',\n",
    "      7:'July',8:'August',9:'September',10:'October',11:'November',12:'December'}\n",
    "df['Month']=df['Month'].map(mmap)"
   ]
  },
  {
   "cell_type": "code",
   "execution_count": 18,
   "id": "e2d796f8",
   "metadata": {},
   "outputs": [
    {
     "data": {
      "text/html": [
       "<div>\n",
       "<style scoped>\n",
       "    .dataframe tbody tr th:only-of-type {\n",
       "        vertical-align: middle;\n",
       "    }\n",
       "\n",
       "    .dataframe tbody tr th {\n",
       "        vertical-align: top;\n",
       "    }\n",
       "\n",
       "    .dataframe thead th {\n",
       "        text-align: right;\n",
       "    }\n",
       "</style>\n",
       "<table border=\"1\" class=\"dataframe\">\n",
       "  <thead>\n",
       "    <tr style=\"text-align: right;\">\n",
       "      <th></th>\n",
       "      <th>Order ID</th>\n",
       "      <th>Product</th>\n",
       "      <th>Quantity Ordered</th>\n",
       "      <th>Price Each</th>\n",
       "      <th>Order Date</th>\n",
       "      <th>Purchase Address</th>\n",
       "      <th>Month</th>\n",
       "    </tr>\n",
       "  </thead>\n",
       "  <tbody>\n",
       "    <tr>\n",
       "      <th>0</th>\n",
       "      <td>176558</td>\n",
       "      <td>USB-C Charging Cable</td>\n",
       "      <td>2</td>\n",
       "      <td>11.95</td>\n",
       "      <td>2019-04-19 08:46:00</td>\n",
       "      <td>917 1st St, Dallas, TX 75001</td>\n",
       "      <td>April</td>\n",
       "    </tr>\n",
       "    <tr>\n",
       "      <th>2</th>\n",
       "      <td>176559</td>\n",
       "      <td>Bose SoundSport Headphones</td>\n",
       "      <td>1</td>\n",
       "      <td>99.99</td>\n",
       "      <td>2019-04-07 22:30:00</td>\n",
       "      <td>682 Chestnut St, Boston, MA 02215</td>\n",
       "      <td>April</td>\n",
       "    </tr>\n",
       "    <tr>\n",
       "      <th>3</th>\n",
       "      <td>176560</td>\n",
       "      <td>Google Phone</td>\n",
       "      <td>1</td>\n",
       "      <td>600</td>\n",
       "      <td>2019-04-12 14:38:00</td>\n",
       "      <td>669 Spruce St, Los Angeles, CA 90001</td>\n",
       "      <td>April</td>\n",
       "    </tr>\n",
       "    <tr>\n",
       "      <th>4</th>\n",
       "      <td>176560</td>\n",
       "      <td>Wired Headphones</td>\n",
       "      <td>1</td>\n",
       "      <td>11.99</td>\n",
       "      <td>2019-04-12 14:38:00</td>\n",
       "      <td>669 Spruce St, Los Angeles, CA 90001</td>\n",
       "      <td>April</td>\n",
       "    </tr>\n",
       "    <tr>\n",
       "      <th>5</th>\n",
       "      <td>176561</td>\n",
       "      <td>Wired Headphones</td>\n",
       "      <td>1</td>\n",
       "      <td>11.99</td>\n",
       "      <td>2019-04-30 09:27:00</td>\n",
       "      <td>333 8th St, Los Angeles, CA 90001</td>\n",
       "      <td>April</td>\n",
       "    </tr>\n",
       "  </tbody>\n",
       "</table>\n",
       "</div>"
      ],
      "text/plain": [
       "  Order ID                     Product Quantity Ordered Price Each  \\\n",
       "0   176558        USB-C Charging Cable                2      11.95   \n",
       "2   176559  Bose SoundSport Headphones                1      99.99   \n",
       "3   176560                Google Phone                1        600   \n",
       "4   176560            Wired Headphones                1      11.99   \n",
       "5   176561            Wired Headphones                1      11.99   \n",
       "\n",
       "           Order Date                      Purchase Address  Month  \n",
       "0 2019-04-19 08:46:00          917 1st St, Dallas, TX 75001  April  \n",
       "2 2019-04-07 22:30:00     682 Chestnut St, Boston, MA 02215  April  \n",
       "3 2019-04-12 14:38:00  669 Spruce St, Los Angeles, CA 90001  April  \n",
       "4 2019-04-12 14:38:00  669 Spruce St, Los Angeles, CA 90001  April  \n",
       "5 2019-04-30 09:27:00     333 8th St, Los Angeles, CA 90001  April  "
      ]
     },
     "execution_count": 18,
     "metadata": {},
     "output_type": "execute_result"
    }
   ],
   "source": [
    "df.head()"
   ]
  },
  {
   "cell_type": "code",
   "execution_count": 19,
   "id": "177d6905",
   "metadata": {},
   "outputs": [
    {
     "data": {
      "text/plain": [
       "USB-C Charging Cable          21845\n",
       "Lightning Charging Cable      21595\n",
       "AAA Batteries (4-pack)        20593\n",
       "AA Batteries (4-pack)         20543\n",
       "Wired Headphones              18827\n",
       "Apple Airpods Headphones      15518\n",
       "Bose SoundSport Headphones    13291\n",
       "27in FHD Monitor               7494\n",
       "iPhone                         6834\n",
       "27in 4K Gaming Monitor         6225\n",
       "34in Ultrawide Monitor         6167\n",
       "Google Phone                   5519\n",
       "Flatscreen TV                  4790\n",
       "Macbook Pro Laptop             4719\n",
       "ThinkPad Laptop                4124\n",
       "20in Monitor                   4095\n",
       "Vareebadd Phone                2064\n",
       "LG Washing Machine              666\n",
       "LG Dryer                        646\n",
       "Name: Product, dtype: int64"
      ]
     },
     "execution_count": 19,
     "metadata": {},
     "output_type": "execute_result"
    }
   ],
   "source": [
    "df.Product.value_counts()"
   ]
  },
  {
   "cell_type": "code",
   "execution_count": 20,
   "id": "75fc2b7b",
   "metadata": {},
   "outputs": [],
   "source": [
    "df['Quantity Ordered']=df['Quantity Ordered'].astype(int)\n",
    "df['Price Each']=df['Price Each'].astype(float)"
   ]
  },
  {
   "cell_type": "code",
   "execution_count": 21,
   "id": "a6cc12a0",
   "metadata": {},
   "outputs": [],
   "source": [
    "df['Sales made']=df['Quantity Ordered'] * df['Price Each']"
   ]
  },
  {
   "cell_type": "code",
   "execution_count": 22,
   "id": "e4833005",
   "metadata": {},
   "outputs": [
    {
     "name": "stdout",
     "output_type": "stream",
     "text": [
      "<class 'pandas.core.frame.DataFrame'>\n",
      "Int64Index: 185555 entries, 0 to 11685\n",
      "Data columns (total 8 columns):\n",
      " #   Column            Non-Null Count   Dtype         \n",
      "---  ------            --------------   -----         \n",
      " 0   Order ID          185555 non-null  object        \n",
      " 1   Product           185555 non-null  object        \n",
      " 2   Quantity Ordered  185555 non-null  int32         \n",
      " 3   Price Each        185555 non-null  float64       \n",
      " 4   Order Date        185555 non-null  datetime64[ns]\n",
      " 5   Purchase Address  185555 non-null  object        \n",
      " 6   Month             185555 non-null  object        \n",
      " 7   Sales made        185555 non-null  float64       \n",
      "dtypes: datetime64[ns](1), float64(2), int32(1), object(4)\n",
      "memory usage: 12.0+ MB\n"
     ]
    }
   ],
   "source": [
    "df.info()"
   ]
  },
  {
   "cell_type": "code",
   "execution_count": 23,
   "id": "c1f13943",
   "metadata": {},
   "outputs": [
    {
     "data": {
      "image/png": "[encoded data removed]",
      "text/plain": [
       "<Figure size 1080x504 with 4 Axes>"
      ]
     },
     "metadata": {
      "needs_background": "light"
     },
     "output_type": "display_data"
    }
   ],
   "source": [
    "df.hist(figsize=(15,7));"
   ]
  },
  {
   "cell_type": "code",
   "execution_count": 24,
   "id": "90e35e68",
   "metadata": {},
   "outputs": [
    {
     "data": {
      "image/png": "[encoded data removed]",
      "text/plain": [
       "<Figure size 432x288 with 1 Axes>"
      ]
     },
     "metadata": {
      "needs_background": "light"
     },
     "output_type": "display_data"
    }
   ],
   "source": [
    "sns.distplot(df['Price Each'])\n",
    "plt.title('Distribution of prices');"
   ]
  },
  {
   "cell_type": "markdown",
   "id": "7be581bd",
   "metadata": {},
   "source": [
    "### What month has the highest sales?"
   ]
  },
  {
   "cell_type": "code",
   "execution_count": 25,
   "id": "dace6a48",
   "metadata": {},
   "outputs": [],
   "source": [
    "pl=df.groupby('Month')['Sales made'].sum()"
   ]
  },
  {
   "cell_type": "code",
   "execution_count": 26,
   "id": "d1187d22",
   "metadata": {},
   "outputs": [
    {
     "data": {
      "text/plain": [
       "Month\n",
       "April        3.387119e+06\n",
       "August       2.238529e+06\n",
       "December     4.606770e+06\n",
       "February     2.198996e+06\n",
       "January      1.820098e+06\n",
       "July         2.643476e+06\n",
       "June         2.575821e+06\n",
       "March        2.804401e+06\n",
       "May          3.149295e+06\n",
       "November     3.196802e+06\n",
       "October      3.732659e+06\n",
       "September    2.092330e+06\n",
       "Name: Sales made, dtype: float64"
      ]
     },
     "execution_count": 26,
     "metadata": {},
     "output_type": "execute_result"
    }
   ],
   "source": [
    "pl"
   ]
  },
  {
   "cell_type": "code",
   "execution_count": 27,
   "id": "4cbcc7bf",
   "metadata": {},
   "outputs": [
    {
     "data": {
      "image/png": "[encoded data removed]",
      "text/plain": [
       "<Figure size 432x288 with 1 Axes>"
      ]
     },
     "metadata": {
      "needs_background": "light"
     },
     "output_type": "display_data"
    }
   ],
   "source": [
    "sns.barplot(pl.values,pl.index)\n",
    "plt.xticks(rotation=90)\n",
    "plt.title('Month Vs. Sales');"
   ]
  },
  {
   "cell_type": "markdown",
   "id": "579a26f3",
   "metadata": {},
   "source": [
    "### Product with the highest sale value"
   ]
  },
  {
   "cell_type": "code",
   "execution_count": 28,
   "id": "a71494c3",
   "metadata": {},
   "outputs": [
    {
     "data": {
      "text/plain": [
       "3400.0"
      ]
     },
     "execution_count": 28,
     "metadata": {},
     "output_type": "execute_result"
    }
   ],
   "source": [
    "max_sales=df['Sales made'].max()\n",
    "max_sales"
   ]
  },
  {
   "cell_type": "code",
   "execution_count": 29,
   "id": "c035f224",
   "metadata": {},
   "outputs": [
    {
     "data": {
      "text/html": [
       "<div>\n",
       "<style scoped>\n",
       "    .dataframe tbody tr th:only-of-type {\n",
       "        vertical-align: middle;\n",
       "    }\n",
       "\n",
       "    .dataframe tbody tr th {\n",
       "        vertical-align: top;\n",
       "    }\n",
       "\n",
       "    .dataframe thead th {\n",
       "        text-align: right;\n",
       "    }\n",
       "</style>\n",
       "<table border=\"1\" class=\"dataframe\">\n",
       "  <thead>\n",
       "    <tr style=\"text-align: right;\">\n",
       "      <th></th>\n",
       "      <th>Order ID</th>\n",
       "      <th>Product</th>\n",
       "      <th>Quantity Ordered</th>\n",
       "      <th>Price Each</th>\n",
       "      <th>Order Date</th>\n",
       "      <th>Purchase Address</th>\n",
       "      <th>Month</th>\n",
       "      <th>Sales made</th>\n",
       "    </tr>\n",
       "  </thead>\n",
       "  <tbody>\n",
       "    <tr>\n",
       "      <th>4717</th>\n",
       "      <td>181069</td>\n",
       "      <td>Macbook Pro Laptop</td>\n",
       "      <td>2</td>\n",
       "      <td>1700.0</td>\n",
       "      <td>2019-04-27 21:01:00</td>\n",
       "      <td>668 Park St, San Francisco, CA 94016</td>\n",
       "      <td>April</td>\n",
       "      <td>3400.0</td>\n",
       "    </tr>\n",
       "    <tr>\n",
       "      <th>5219</th>\n",
       "      <td>181544</td>\n",
       "      <td>Macbook Pro Laptop</td>\n",
       "      <td>2</td>\n",
       "      <td>1700.0</td>\n",
       "      <td>2019-04-22 12:48:00</td>\n",
       "      <td>731 11th St, New York City, NY 10001</td>\n",
       "      <td>April</td>\n",
       "      <td>3400.0</td>\n",
       "    </tr>\n",
       "    <tr>\n",
       "      <th>385</th>\n",
       "      <td>210292</td>\n",
       "      <td>Macbook Pro Laptop</td>\n",
       "      <td>2</td>\n",
       "      <td>1700.0</td>\n",
       "      <td>2019-06-08 09:00:00</td>\n",
       "      <td>953 Ridge St, San Francisco, CA 94016</td>\n",
       "      <td>June</td>\n",
       "      <td>3400.0</td>\n",
       "    </tr>\n",
       "    <tr>\n",
       "      <th>6776</th>\n",
       "      <td>200528</td>\n",
       "      <td>Macbook Pro Laptop</td>\n",
       "      <td>2</td>\n",
       "      <td>1700.0</td>\n",
       "      <td>2019-05-13 13:40:00</td>\n",
       "      <td>643 4th St, Boston, MA 02215</td>\n",
       "      <td>May</td>\n",
       "      <td>3400.0</td>\n",
       "    </tr>\n",
       "  </tbody>\n",
       "</table>\n",
       "</div>"
      ],
      "text/plain": [
       "     Order ID             Product  Quantity Ordered  Price Each  \\\n",
       "4717   181069  Macbook Pro Laptop                 2      1700.0   \n",
       "5219   181544  Macbook Pro Laptop                 2      1700.0   \n",
       "385    210292  Macbook Pro Laptop                 2      1700.0   \n",
       "6776   200528  Macbook Pro Laptop                 2      1700.0   \n",
       "\n",
       "              Order Date                       Purchase Address  Month  \\\n",
       "4717 2019-04-27 21:01:00   668 Park St, San Francisco, CA 94016  April   \n",
       "5219 2019-04-22 12:48:00   731 11th St, New York City, NY 10001  April   \n",
       "385  2019-06-08 09:00:00  953 Ridge St, San Francisco, CA 94016   June   \n",
       "6776 2019-05-13 13:40:00           643 4th St, Boston, MA 02215    May   \n",
       "\n",
       "      Sales made  \n",
       "4717      3400.0  \n",
       "5219      3400.0  \n",
       "385       3400.0  \n",
       "6776      3400.0  "
      ]
     },
     "execution_count": 29,
     "metadata": {},
     "output_type": "execute_result"
    }
   ],
   "source": [
    "indices=np.where(df['Sales made']==3400.0)\n",
    "df.iloc[indices]"
   ]
  },
  {
   "cell_type": "markdown",
   "id": "86279f88",
   "metadata": {},
   "source": [
    "Product Macbook Pro Laptop has the highest sales at 3400"
   ]
  },
  {
   "cell_type": "markdown",
   "id": "289e91dc",
   "metadata": {},
   "source": [
    "### Most ordered product"
   ]
  },
  {
   "cell_type": "code",
   "execution_count": 30,
   "id": "f64ad06c",
   "metadata": {},
   "outputs": [
    {
     "data": {
      "text/plain": [
       "USB-C Charging Cable          21845\n",
       "Lightning Charging Cable      21595\n",
       "AAA Batteries (4-pack)        20593\n",
       "AA Batteries (4-pack)         20543\n",
       "Wired Headphones              18827\n",
       "Apple Airpods Headphones      15518\n",
       "Bose SoundSport Headphones    13291\n",
       "27in FHD Monitor               7494\n",
       "iPhone                         6834\n",
       "27in 4K Gaming Monitor         6225\n",
       "34in Ultrawide Monitor         6167\n",
       "Google Phone                   5519\n",
       "Flatscreen TV                  4790\n",
       "Macbook Pro Laptop             4719\n",
       "ThinkPad Laptop                4124\n",
       "20in Monitor                   4095\n",
       "Vareebadd Phone                2064\n",
       "LG Washing Machine              666\n",
       "LG Dryer                        646\n",
       "Name: Product, dtype: int64"
      ]
     },
     "execution_count": 30,
     "metadata": {},
     "output_type": "execute_result"
    }
   ],
   "source": [
    "c=df.Product.value_counts()\n",
    "c"
   ]
  },
  {
   "cell_type": "code",
   "execution_count": 31,
   "id": "9cd79714",
   "metadata": {},
   "outputs": [
    {
     "data": {
      "image/png": "[encoded data removed]",
      "text/plain": [
       "<Figure size 432x288 with 1 Axes>"
      ]
     },
     "metadata": {
      "needs_background": "light"
     },
     "output_type": "display_data"
    }
   ],
   "source": [
    "plt.bar(c.index,c.values,color=['purple'])\n",
    "plt.xticks(rotation=90)\n",
    "plt.title('Most ordered product');"
   ]
  },
  {
   "cell_type": "markdown",
   "id": "d821c155",
   "metadata": {},
   "source": [
    "USB-C Charging Cable, Bose SoundSport Headphones, and Google Phone are the top products the the highest orders for 2019.<br>\n",
    "34in Ultrawide Monitor, LG Washing Machine, and Vareebadd Phone are the least ordered phones in 2019."
   ]
  },
  {
   "cell_type": "markdown",
   "id": "ce17ed8d",
   "metadata": {},
   "source": [
    "### What product made the most sum total sales in 2019?"
   ]
  },
  {
   "cell_type": "code",
   "execution_count": 32,
   "id": "adf9ed19",
   "metadata": {},
   "outputs": [],
   "source": [
    "x=df.groupby('Product')['Sales made'].sum().sort_values(ascending=False)"
   ]
  },
  {
   "cell_type": "code",
   "execution_count": 33,
   "id": "733fe7e0",
   "metadata": {},
   "outputs": [
    {
     "data": {
      "image/png": "[encoded data removed]",
      "text/plain": [
       "<Figure size 432x288 with 1 Axes>"
      ]
     },
     "metadata": {
      "needs_background": "light"
     },
     "output_type": "display_data"
    }
   ],
   "source": [
    "plt.barh(x.index,x.values,color='cyan')\n",
    "plt.xticks(rotation=90)\n",
    "plt.title('Sales made in 2019');"
   ]
  },
  {
   "cell_type": "markdown",
   "id": "8784aa31",
   "metadata": {},
   "source": [
    "Macbook Pro Laptop, ThinkPad Laptop, and iPhone were the most succesfull products of 2019."
   ]
  },
  {
   "cell_type": "markdown",
   "id": "ea5a5eab",
   "metadata": {},
   "source": [
    "### What city were most orders coming from?\n"
   ]
  },
  {
   "cell_type": "code",
   "execution_count": 34,
   "id": "a5aa0b28",
   "metadata": {},
   "outputs": [
    {
     "data": {
      "text/plain": [
       "0                   917 1st St, Dallas, TX 75001\n",
       "2              682 Chestnut St, Boston, MA 02215\n",
       "3           669 Spruce St, Los Angeles, CA 90001\n",
       "4           669 Spruce St, Los Angeles, CA 90001\n",
       "5              333 8th St, Los Angeles, CA 90001\n",
       "                          ...                   \n",
       "11681     840 Highland St, Los Angeles, CA 90001\n",
       "11682    216 Dogwood St, San Francisco, CA 94016\n",
       "11683       220 12th St, San Francisco, CA 94016\n",
       "11684     511 Forest St, San Francisco, CA 94016\n",
       "11685     250 Meadow St, San Francisco, CA 94016\n",
       "Name: Purchase Address, Length: 185555, dtype: object"
      ]
     },
     "execution_count": 34,
     "metadata": {},
     "output_type": "execute_result"
    }
   ],
   "source": [
    "df['Purchase Address']"
   ]
  },
  {
   "cell_type": "code",
   "execution_count": 35,
   "id": "ed0ffd51",
   "metadata": {},
   "outputs": [],
   "source": [
    "df['City']=df['Purchase Address'].str.split(',',expand=True)[1]"
   ]
  },
  {
   "cell_type": "code",
   "execution_count": 36,
   "id": "cfda5b7d",
   "metadata": {},
   "outputs": [
    {
     "data": {
      "text/plain": [
       " San Francisco    44627\n",
       " Los Angeles      29541\n",
       " New York City    24835\n",
       " Boston           19887\n",
       " Atlanta          14853\n",
       " Dallas           14788\n",
       " Seattle          14705\n",
       " Portland         12438\n",
       " Austin            9881\n",
       "Name: City, dtype: int64"
      ]
     },
     "execution_count": 36,
     "metadata": {},
     "output_type": "execute_result"
    }
   ],
   "source": [
    "d=df['City'].value_counts()\n",
    "d"
   ]
  },
  {
   "cell_type": "code",
   "execution_count": 37,
   "id": "e33875fb",
   "metadata": {},
   "outputs": [
    {
     "data": {
      "image/png": "[encoded data removed]",
      "text/plain": [
       "<Figure size 432x288 with 1 Axes>"
      ]
     },
     "metadata": {
      "needs_background": "light"
     },
     "output_type": "display_data"
    }
   ],
   "source": [
    "df['City'].hist()\n",
    "plt.xticks(rotation=90)\n",
    "plt.title('City with the highest orders');"
   ]
  },
  {
   "cell_type": "markdown",
   "id": "8c8af183",
   "metadata": {},
   "source": [
    "San Francisco, Los Angeles, and New York City are the cities with the highest orders.<br>\n",
    "Seattle, Portland, and Austin are the cities with the least amount of orders."
   ]
  },
  {
   "cell_type": "markdown",
   "id": "2f1e961a",
   "metadata": {},
   "source": [
    "### What city has the highest sum total sales for 2019?"
   ]
  },
  {
   "cell_type": "code",
   "execution_count": 38,
   "id": "df12a6cb",
   "metadata": {},
   "outputs": [
    {
     "data": {
      "text/plain": [
       "City\n",
       " Austin           1.816123e+06\n",
       " Portland         2.316899e+06\n",
       " Seattle          2.743007e+06\n",
       " Dallas           2.764561e+06\n",
       " Atlanta          2.792522e+06\n",
       " Boston           3.656053e+06\n",
       " New York City    4.660860e+06\n",
       " Los Angeles      5.446407e+06\n",
       " San Francisco    8.249864e+06\n",
       "Name: Sales made, dtype: float64"
      ]
     },
     "execution_count": 38,
     "metadata": {},
     "output_type": "execute_result"
    }
   ],
   "source": [
    "g=df.groupby('City')['Sales made'].sum().sort_values()\n",
    "g"
   ]
  },
  {
   "cell_type": "code",
   "execution_count": 39,
   "id": "fcc387b1",
   "metadata": {},
   "outputs": [
    {
     "data": {
      "image/png": "[encoded data removed]",
      "text/plain": [
       "<Figure size 576x576 with 1 Axes>"
      ]
     },
     "metadata": {},
     "output_type": "display_data"
    }
   ],
   "source": [
    "plt.figure(figsize=(8,8))\n",
    "explode=[0.2,0.2,0.2,0.2,0.2,0.2,0.2,0.2,0.2]\n",
    "plt.pie(g,labels=g.index,autopct='%1.2f%%',explode=explode,shadow=True)\n",
    "plt.title('Sales made by city in 2019',loc='left');"
   ]
  },
  {
   "cell_type": "markdown",
   "id": "14f581ff",
   "metadata": {},
   "source": [
    "### What products are usually bought together?"
   ]
  },
  {
   "cell_type": "code",
   "execution_count": 40,
   "id": "6ff389ab",
   "metadata": {},
   "outputs": [
    {
     "data": {
      "text/html": [
       "<div>\n",
       "<style scoped>\n",
       "    .dataframe tbody tr th:only-of-type {\n",
       "        vertical-align: middle;\n",
       "    }\n",
       "\n",
       "    .dataframe tbody tr th {\n",
       "        vertical-align: top;\n",
       "    }\n",
       "\n",
       "    .dataframe thead th {\n",
       "        text-align: right;\n",
       "    }\n",
       "</style>\n",
       "<table border=\"1\" class=\"dataframe\">\n",
       "  <thead>\n",
       "    <tr style=\"text-align: right;\">\n",
       "      <th></th>\n",
       "      <th>Order ID</th>\n",
       "      <th>Product</th>\n",
       "      <th>Quantity Ordered</th>\n",
       "      <th>Price Each</th>\n",
       "      <th>Order Date</th>\n",
       "      <th>Purchase Address</th>\n",
       "      <th>Month</th>\n",
       "      <th>Sales made</th>\n",
       "      <th>City</th>\n",
       "    </tr>\n",
       "  </thead>\n",
       "  <tbody>\n",
       "    <tr>\n",
       "      <th>3</th>\n",
       "      <td>176560</td>\n",
       "      <td>Google Phone</td>\n",
       "      <td>1</td>\n",
       "      <td>600.00</td>\n",
       "      <td>2019-04-12 14:38:00</td>\n",
       "      <td>669 Spruce St, Los Angeles, CA 90001</td>\n",
       "      <td>April</td>\n",
       "      <td>600.00</td>\n",
       "      <td>Los Angeles</td>\n",
       "    </tr>\n",
       "    <tr>\n",
       "      <th>4</th>\n",
       "      <td>176560</td>\n",
       "      <td>Wired Headphones</td>\n",
       "      <td>1</td>\n",
       "      <td>11.99</td>\n",
       "      <td>2019-04-12 14:38:00</td>\n",
       "      <td>669 Spruce St, Los Angeles, CA 90001</td>\n",
       "      <td>April</td>\n",
       "      <td>11.99</td>\n",
       "      <td>Los Angeles</td>\n",
       "    </tr>\n",
       "    <tr>\n",
       "      <th>18</th>\n",
       "      <td>176574</td>\n",
       "      <td>Google Phone</td>\n",
       "      <td>1</td>\n",
       "      <td>600.00</td>\n",
       "      <td>2019-04-03 19:42:00</td>\n",
       "      <td>20 Hill St, Los Angeles, CA 90001</td>\n",
       "      <td>April</td>\n",
       "      <td>600.00</td>\n",
       "      <td>Los Angeles</td>\n",
       "    </tr>\n",
       "    <tr>\n",
       "      <th>19</th>\n",
       "      <td>176574</td>\n",
       "      <td>USB-C Charging Cable</td>\n",
       "      <td>1</td>\n",
       "      <td>11.95</td>\n",
       "      <td>2019-04-03 19:42:00</td>\n",
       "      <td>20 Hill St, Los Angeles, CA 90001</td>\n",
       "      <td>April</td>\n",
       "      <td>11.95</td>\n",
       "      <td>Los Angeles</td>\n",
       "    </tr>\n",
       "    <tr>\n",
       "      <th>32</th>\n",
       "      <td>176586</td>\n",
       "      <td>AAA Batteries (4-pack)</td>\n",
       "      <td>2</td>\n",
       "      <td>2.99</td>\n",
       "      <td>2019-04-10 17:00:00</td>\n",
       "      <td>365 Center St, San Francisco, CA 94016</td>\n",
       "      <td>April</td>\n",
       "      <td>5.98</td>\n",
       "      <td>San Francisco</td>\n",
       "    </tr>\n",
       "    <tr>\n",
       "      <th>...</th>\n",
       "      <td>...</td>\n",
       "      <td>...</td>\n",
       "      <td>...</td>\n",
       "      <td>...</td>\n",
       "      <td>...</td>\n",
       "      <td>...</td>\n",
       "      <td>...</td>\n",
       "      <td>...</td>\n",
       "      <td>...</td>\n",
       "    </tr>\n",
       "    <tr>\n",
       "      <th>11628</th>\n",
       "      <td>259303</td>\n",
       "      <td>AA Batteries (4-pack)</td>\n",
       "      <td>1</td>\n",
       "      <td>3.84</td>\n",
       "      <td>2019-09-20 20:18:00</td>\n",
       "      <td>106 7th St, Atlanta, GA 30301</td>\n",
       "      <td>September</td>\n",
       "      <td>3.84</td>\n",
       "      <td>Atlanta</td>\n",
       "    </tr>\n",
       "    <tr>\n",
       "      <th>11639</th>\n",
       "      <td>259314</td>\n",
       "      <td>Wired Headphones</td>\n",
       "      <td>1</td>\n",
       "      <td>11.99</td>\n",
       "      <td>2019-09-16 00:25:00</td>\n",
       "      <td>241 Highland St, Atlanta, GA 30301</td>\n",
       "      <td>September</td>\n",
       "      <td>11.99</td>\n",
       "      <td>Atlanta</td>\n",
       "    </tr>\n",
       "    <tr>\n",
       "      <th>11640</th>\n",
       "      <td>259314</td>\n",
       "      <td>AAA Batteries (4-pack)</td>\n",
       "      <td>2</td>\n",
       "      <td>2.99</td>\n",
       "      <td>2019-09-16 00:25:00</td>\n",
       "      <td>241 Highland St, Atlanta, GA 30301</td>\n",
       "      <td>September</td>\n",
       "      <td>5.98</td>\n",
       "      <td>Atlanta</td>\n",
       "    </tr>\n",
       "    <tr>\n",
       "      <th>11677</th>\n",
       "      <td>259350</td>\n",
       "      <td>Google Phone</td>\n",
       "      <td>1</td>\n",
       "      <td>600.00</td>\n",
       "      <td>2019-09-30 13:49:00</td>\n",
       "      <td>519 Maple St, San Francisco, CA 94016</td>\n",
       "      <td>September</td>\n",
       "      <td>600.00</td>\n",
       "      <td>San Francisco</td>\n",
       "    </tr>\n",
       "    <tr>\n",
       "      <th>11678</th>\n",
       "      <td>259350</td>\n",
       "      <td>USB-C Charging Cable</td>\n",
       "      <td>1</td>\n",
       "      <td>11.95</td>\n",
       "      <td>2019-09-30 13:49:00</td>\n",
       "      <td>519 Maple St, San Francisco, CA 94016</td>\n",
       "      <td>September</td>\n",
       "      <td>11.95</td>\n",
       "      <td>San Francisco</td>\n",
       "    </tr>\n",
       "  </tbody>\n",
       "</table>\n",
       "<p>14119 rows × 9 columns</p>\n",
       "</div>"
      ],
      "text/plain": [
       "      Order ID                 Product  Quantity Ordered  Price Each  \\\n",
       "3       176560            Google Phone                 1      600.00   \n",
       "4       176560        Wired Headphones                 1       11.99   \n",
       "18      176574            Google Phone                 1      600.00   \n",
       "19      176574    USB-C Charging Cable                 1       11.95   \n",
       "32      176586  AAA Batteries (4-pack)                 2        2.99   \n",
       "...        ...                     ...               ...         ...   \n",
       "11628   259303   AA Batteries (4-pack)                 1        3.84   \n",
       "11639   259314        Wired Headphones                 1       11.99   \n",
       "11640   259314  AAA Batteries (4-pack)                 2        2.99   \n",
       "11677   259350            Google Phone                 1      600.00   \n",
       "11678   259350    USB-C Charging Cable                 1       11.95   \n",
       "\n",
       "               Order Date                        Purchase Address      Month  \\\n",
       "3     2019-04-12 14:38:00    669 Spruce St, Los Angeles, CA 90001      April   \n",
       "4     2019-04-12 14:38:00    669 Spruce St, Los Angeles, CA 90001      April   \n",
       "18    2019-04-03 19:42:00       20 Hill St, Los Angeles, CA 90001      April   \n",
       "19    2019-04-03 19:42:00       20 Hill St, Los Angeles, CA 90001      April   \n",
       "32    2019-04-10 17:00:00  365 Center St, San Francisco, CA 94016      April   \n",
       "...                   ...                                     ...        ...   \n",
       "11628 2019-09-20 20:18:00           106 7th St, Atlanta, GA 30301  September   \n",
       "11639 2019-09-16 00:25:00      241 Highland St, Atlanta, GA 30301  September   \n",
       "11640 2019-09-16 00:25:00      241 Highland St, Atlanta, GA 30301  September   \n",
       "11677 2019-09-30 13:49:00   519 Maple St, San Francisco, CA 94016  September   \n",
       "11678 2019-09-30 13:49:00   519 Maple St, San Francisco, CA 94016  September   \n",
       "\n",
       "       Sales made            City  \n",
       "3          600.00     Los Angeles  \n",
       "4           11.99     Los Angeles  \n",
       "18         600.00     Los Angeles  \n",
       "19          11.95     Los Angeles  \n",
       "32           5.98   San Francisco  \n",
       "...           ...             ...  \n",
       "11628        3.84         Atlanta  \n",
       "11639       11.99         Atlanta  \n",
       "11640        5.98         Atlanta  \n",
       "11677      600.00   San Francisco  \n",
       "11678       11.95   San Francisco  \n",
       "\n",
       "[14119 rows x 9 columns]"
      ]
     },
     "execution_count": 40,
     "metadata": {},
     "output_type": "execute_result"
    }
   ],
   "source": [
    "sd=df[df['Order ID'].duplicated(keep=False)]\n",
    "sd"
   ]
  },
  {
   "cell_type": "code",
   "execution_count": 41,
   "id": "5fcc0f07",
   "metadata": {},
   "outputs": [
    {
     "data": {
      "text/html": [
       "<div>\n",
       "<style scoped>\n",
       "    .dataframe tbody tr th:only-of-type {\n",
       "        vertical-align: middle;\n",
       "    }\n",
       "\n",
       "    .dataframe tbody tr th {\n",
       "        vertical-align: top;\n",
       "    }\n",
       "\n",
       "    .dataframe thead th {\n",
       "        text-align: right;\n",
       "    }\n",
       "</style>\n",
       "<table border=\"1\" class=\"dataframe\">\n",
       "  <thead>\n",
       "    <tr style=\"text-align: right;\">\n",
       "      <th></th>\n",
       "      <th>Order ID</th>\n",
       "      <th>Product</th>\n",
       "      <th>Quantity Ordered</th>\n",
       "      <th>Price Each</th>\n",
       "      <th>Order Date</th>\n",
       "      <th>Purchase Address</th>\n",
       "      <th>Month</th>\n",
       "      <th>Sales made</th>\n",
       "      <th>City</th>\n",
       "      <th>Grouped</th>\n",
       "    </tr>\n",
       "  </thead>\n",
       "  <tbody>\n",
       "    <tr>\n",
       "      <th>3</th>\n",
       "      <td>176560</td>\n",
       "      <td>Google Phone</td>\n",
       "      <td>1</td>\n",
       "      <td>600.00</td>\n",
       "      <td>2019-04-12 14:38:00</td>\n",
       "      <td>669 Spruce St, Los Angeles, CA 90001</td>\n",
       "      <td>April</td>\n",
       "      <td>600.00</td>\n",
       "      <td>Los Angeles</td>\n",
       "      <td>Google Phone,Wired Headphones</td>\n",
       "    </tr>\n",
       "    <tr>\n",
       "      <th>4</th>\n",
       "      <td>176560</td>\n",
       "      <td>Wired Headphones</td>\n",
       "      <td>1</td>\n",
       "      <td>11.99</td>\n",
       "      <td>2019-04-12 14:38:00</td>\n",
       "      <td>669 Spruce St, Los Angeles, CA 90001</td>\n",
       "      <td>April</td>\n",
       "      <td>11.99</td>\n",
       "      <td>Los Angeles</td>\n",
       "      <td>Google Phone,Wired Headphones</td>\n",
       "    </tr>\n",
       "    <tr>\n",
       "      <th>18</th>\n",
       "      <td>176574</td>\n",
       "      <td>Google Phone</td>\n",
       "      <td>1</td>\n",
       "      <td>600.00</td>\n",
       "      <td>2019-04-03 19:42:00</td>\n",
       "      <td>20 Hill St, Los Angeles, CA 90001</td>\n",
       "      <td>April</td>\n",
       "      <td>600.00</td>\n",
       "      <td>Los Angeles</td>\n",
       "      <td>Google Phone,USB-C Charging Cable</td>\n",
       "    </tr>\n",
       "    <tr>\n",
       "      <th>19</th>\n",
       "      <td>176574</td>\n",
       "      <td>USB-C Charging Cable</td>\n",
       "      <td>1</td>\n",
       "      <td>11.95</td>\n",
       "      <td>2019-04-03 19:42:00</td>\n",
       "      <td>20 Hill St, Los Angeles, CA 90001</td>\n",
       "      <td>April</td>\n",
       "      <td>11.95</td>\n",
       "      <td>Los Angeles</td>\n",
       "      <td>Google Phone,USB-C Charging Cable</td>\n",
       "    </tr>\n",
       "    <tr>\n",
       "      <th>32</th>\n",
       "      <td>176586</td>\n",
       "      <td>AAA Batteries (4-pack)</td>\n",
       "      <td>2</td>\n",
       "      <td>2.99</td>\n",
       "      <td>2019-04-10 17:00:00</td>\n",
       "      <td>365 Center St, San Francisco, CA 94016</td>\n",
       "      <td>April</td>\n",
       "      <td>5.98</td>\n",
       "      <td>San Francisco</td>\n",
       "      <td>AAA Batteries (4-pack),Google Phone</td>\n",
       "    </tr>\n",
       "    <tr>\n",
       "      <th>...</th>\n",
       "      <td>...</td>\n",
       "      <td>...</td>\n",
       "      <td>...</td>\n",
       "      <td>...</td>\n",
       "      <td>...</td>\n",
       "      <td>...</td>\n",
       "      <td>...</td>\n",
       "      <td>...</td>\n",
       "      <td>...</td>\n",
       "      <td>...</td>\n",
       "    </tr>\n",
       "    <tr>\n",
       "      <th>11628</th>\n",
       "      <td>259303</td>\n",
       "      <td>AA Batteries (4-pack)</td>\n",
       "      <td>1</td>\n",
       "      <td>3.84</td>\n",
       "      <td>2019-09-20 20:18:00</td>\n",
       "      <td>106 7th St, Atlanta, GA 30301</td>\n",
       "      <td>September</td>\n",
       "      <td>3.84</td>\n",
       "      <td>Atlanta</td>\n",
       "      <td>34in Ultrawide Monitor,AA Batteries (4-pack)</td>\n",
       "    </tr>\n",
       "    <tr>\n",
       "      <th>11639</th>\n",
       "      <td>259314</td>\n",
       "      <td>Wired Headphones</td>\n",
       "      <td>1</td>\n",
       "      <td>11.99</td>\n",
       "      <td>2019-09-16 00:25:00</td>\n",
       "      <td>241 Highland St, Atlanta, GA 30301</td>\n",
       "      <td>September</td>\n",
       "      <td>11.99</td>\n",
       "      <td>Atlanta</td>\n",
       "      <td>Wired Headphones,AAA Batteries (4-pack)</td>\n",
       "    </tr>\n",
       "    <tr>\n",
       "      <th>11640</th>\n",
       "      <td>259314</td>\n",
       "      <td>AAA Batteries (4-pack)</td>\n",
       "      <td>2</td>\n",
       "      <td>2.99</td>\n",
       "      <td>2019-09-16 00:25:00</td>\n",
       "      <td>241 Highland St, Atlanta, GA 30301</td>\n",
       "      <td>September</td>\n",
       "      <td>5.98</td>\n",
       "      <td>Atlanta</td>\n",
       "      <td>Wired Headphones,AAA Batteries (4-pack)</td>\n",
       "    </tr>\n",
       "    <tr>\n",
       "      <th>11677</th>\n",
       "      <td>259350</td>\n",
       "      <td>Google Phone</td>\n",
       "      <td>1</td>\n",
       "      <td>600.00</td>\n",
       "      <td>2019-09-30 13:49:00</td>\n",
       "      <td>519 Maple St, San Francisco, CA 94016</td>\n",
       "      <td>September</td>\n",
       "      <td>600.00</td>\n",
       "      <td>San Francisco</td>\n",
       "      <td>Google Phone,USB-C Charging Cable</td>\n",
       "    </tr>\n",
       "    <tr>\n",
       "      <th>11678</th>\n",
       "      <td>259350</td>\n",
       "      <td>USB-C Charging Cable</td>\n",
       "      <td>1</td>\n",
       "      <td>11.95</td>\n",
       "      <td>2019-09-30 13:49:00</td>\n",
       "      <td>519 Maple St, San Francisco, CA 94016</td>\n",
       "      <td>September</td>\n",
       "      <td>11.95</td>\n",
       "      <td>San Francisco</td>\n",
       "      <td>Google Phone,USB-C Charging Cable</td>\n",
       "    </tr>\n",
       "  </tbody>\n",
       "</table>\n",
       "<p>14119 rows × 10 columns</p>\n",
       "</div>"
      ],
      "text/plain": [
       "      Order ID                 Product  Quantity Ordered  Price Each  \\\n",
       "3       176560            Google Phone                 1      600.00   \n",
       "4       176560        Wired Headphones                 1       11.99   \n",
       "18      176574            Google Phone                 1      600.00   \n",
       "19      176574    USB-C Charging Cable                 1       11.95   \n",
       "32      176586  AAA Batteries (4-pack)                 2        2.99   \n",
       "...        ...                     ...               ...         ...   \n",
       "11628   259303   AA Batteries (4-pack)                 1        3.84   \n",
       "11639   259314        Wired Headphones                 1       11.99   \n",
       "11640   259314  AAA Batteries (4-pack)                 2        2.99   \n",
       "11677   259350            Google Phone                 1      600.00   \n",
       "11678   259350    USB-C Charging Cable                 1       11.95   \n",
       "\n",
       "               Order Date                        Purchase Address      Month  \\\n",
       "3     2019-04-12 14:38:00    669 Spruce St, Los Angeles, CA 90001      April   \n",
       "4     2019-04-12 14:38:00    669 Spruce St, Los Angeles, CA 90001      April   \n",
       "18    2019-04-03 19:42:00       20 Hill St, Los Angeles, CA 90001      April   \n",
       "19    2019-04-03 19:42:00       20 Hill St, Los Angeles, CA 90001      April   \n",
       "32    2019-04-10 17:00:00  365 Center St, San Francisco, CA 94016      April   \n",
       "...                   ...                                     ...        ...   \n",
       "11628 2019-09-20 20:18:00           106 7th St, Atlanta, GA 30301  September   \n",
       "11639 2019-09-16 00:25:00      241 Highland St, Atlanta, GA 30301  September   \n",
       "11640 2019-09-16 00:25:00      241 Highland St, Atlanta, GA 30301  September   \n",
       "11677 2019-09-30 13:49:00   519 Maple St, San Francisco, CA 94016  September   \n",
       "11678 2019-09-30 13:49:00   519 Maple St, San Francisco, CA 94016  September   \n",
       "\n",
       "       Sales made            City  \\\n",
       "3          600.00     Los Angeles   \n",
       "4           11.99     Los Angeles   \n",
       "18         600.00     Los Angeles   \n",
       "19          11.95     Los Angeles   \n",
       "32           5.98   San Francisco   \n",
       "...           ...             ...   \n",
       "11628        3.84         Atlanta   \n",
       "11639       11.99         Atlanta   \n",
       "11640        5.98         Atlanta   \n",
       "11677      600.00   San Francisco   \n",
       "11678       11.95   San Francisco   \n",
       "\n",
       "                                            Grouped  \n",
       "3                     Google Phone,Wired Headphones  \n",
       "4                     Google Phone,Wired Headphones  \n",
       "18                Google Phone,USB-C Charging Cable  \n",
       "19                Google Phone,USB-C Charging Cable  \n",
       "32              AAA Batteries (4-pack),Google Phone  \n",
       "...                                             ...  \n",
       "11628  34in Ultrawide Monitor,AA Batteries (4-pack)  \n",
       "11639       Wired Headphones,AAA Batteries (4-pack)  \n",
       "11640       Wired Headphones,AAA Batteries (4-pack)  \n",
       "11677             Google Phone,USB-C Charging Cable  \n",
       "11678             Google Phone,USB-C Charging Cable  \n",
       "\n",
       "[14119 rows x 10 columns]"
      ]
     },
     "execution_count": 41,
     "metadata": {},
     "output_type": "execute_result"
    }
   ],
   "source": [
    "sd['Grouped']=sd.groupby('Order ID')['Product'].transform(lambda x: ','.join(x))\n",
    "sd"
   ]
  },
  {
   "cell_type": "code",
   "execution_count": 42,
   "id": "7c6d8cfd",
   "metadata": {},
   "outputs": [
    {
     "data": {
      "text/plain": [
       "iPhone,Lightning Charging Cable                             1772\n",
       "Google Phone,USB-C Charging Cable                           1712\n",
       "iPhone,Wired Headphones                                      720\n",
       "Vareebadd Phone,USB-C Charging Cable                         624\n",
       "Google Phone,Wired Headphones                                606\n",
       "iPhone,Apple Airpods Headphones                              572\n",
       "Google Phone,Bose SoundSport Headphones                      322\n",
       "Google Phone,USB-C Charging Cable,Wired Headphones           237\n",
       "Vareebadd Phone,Wired Headphones                             208\n",
       "iPhone,Lightning Charging Cable,Wired Headphones             165\n",
       "iPhone,Lightning Charging Cable,Apple Airpods Headphones     129\n",
       "Vareebadd Phone,Bose SoundSport Headphones                   120\n",
       "Lightning Charging Cable,USB-C Charging Cable                110\n",
       "Lightning Charging Cable,AA Batteries (4-pack)               104\n",
       "AA Batteries (4-pack),Lightning Charging Cable               102\n",
       "Name: Grouped, dtype: int64"
      ]
     },
     "execution_count": 42,
     "metadata": {},
     "output_type": "execute_result"
    }
   ],
   "source": [
    "ol=sd['Grouped'].value_counts()[:15]\n",
    "ol"
   ]
  },
  {
   "cell_type": "code",
   "execution_count": 43,
   "id": "18352fef",
   "metadata": {},
   "outputs": [
    {
     "data": {
      "image/png": "[encoded data removed]",
      "text/plain": [
       "<Figure size 576x576 with 1 Axes>"
      ]
     },
     "metadata": {},
     "output_type": "display_data"
    }
   ],
   "source": [
    "plt.figure(figsize=(8,8))\n",
    "plt.pie(ol,labels=ol.index,autopct='%1.2f%%')\n",
    "plt.title('What products are usually purchased together?');"
   ]
  },
  {
   "cell_type": "markdown",
   "id": "ad885376",
   "metadata": {},
   "source": [
    "### Time series plot of sales made in 2019"
   ]
  },
  {
   "cell_type": "code",
   "execution_count": 50,
   "id": "eac64dad",
   "metadata": {},
   "outputs": [
    {
     "data": {
      "text/plain": [
       "<AxesSubplot:xlabel='Month', ylabel='Sales made'>"
      ]
     },
     "execution_count": 50,
     "metadata": {},
     "output_type": "execute_result"
    },
    {
     "data": {
      "image/png": "[encoded data removed]",
      "text/plain": [
       "<Figure size 432x288 with 1 Axes>"
      ]
     },
     "metadata": {
      "needs_background": "light"
     },
     "output_type": "display_data"
    }
   ],
   "source": [
    "sns.lineplot(y=df['Sales made'],x=df['Month'])"
   ]
  },
  {
   "cell_type": "code",
   "execution_count": null,
   "id": "fa08d2b3",
   "metadata": {},
   "outputs": [],
   "source": []
  }
 ],
 "metadata": {
  "kernelspec": {
   "display_name": "Python 3",
   "language": "python",
   "name": "python3"
  },
  "language_info": {
   "codemirror_mode": {
    "name": "ipython",
    "version": 3
   },
   "file_extension": ".py",
   "mimetype": "text/x-python",
   "name": "python",
   "nbconvert_exporter": "python",
   "pygments_lexer": "ipython3",
   "version": "3.8.8"
  }
 },
 "nbformat": 4,
 "nbformat_minor": 5
}
